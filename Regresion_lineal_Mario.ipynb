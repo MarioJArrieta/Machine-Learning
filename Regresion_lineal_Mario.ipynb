{
 "cells": [
  {
   "cell_type": "markdown",
   "metadata": {
    "slideshow": {
     "slide_type": "-"
    }
   },
   "source": [
    "# Ejercicio Python de Regresión Lineal + coeficiente de correlacion\n",
    "Mario José Arrieta Sánchez\n",
    "\n",
    "Predecir la venta del mes 7 dada las ventas de meses anteriores\n",
    "\n",
    "Enero  -  7000,\n",
    "Febrero - 9000,\n",
    "Marzo  -  5000,\n",
    "Abril  -  11000,\n",
    "Mayo   -  10000,\n",
    "Junio  -  13000\n",
    "\n",
    "Ahora procederemos a cargar los datos, donde x son cada mes, las y cada venta\n"
   ]
  },
  {
   "cell_type": "code",
   "execution_count": 2,
   "metadata": {},
   "outputs": [],
   "source": [
    "##Listas de datos\n",
    "x=[1,2,3,4,5,6]\n",
    "y=[7000,9000,5000,11000,10000,13000]"
   ]
  },
  {
   "cell_type": "markdown",
   "metadata": {},
   "source": [
    "Ahora importamos las librerías necesarias"
   ]
  },
  {
   "cell_type": "code",
   "execution_count": 3,
   "metadata": {},
   "outputs": [],
   "source": [
    "#libreria para manejar datos numericos\n",
    "import numpy as np\n",
    "#libreria para graficar\n",
    "import matplotlib\n",
    "import matplotlib.pyplot as plt"
   ]
  },
  {
   "cell_type": "markdown",
   "metadata": {},
   "source": [
    "Convertimos los datos de tipo lista a Array, también calculamos algunas sumatoria que nos pide la ecuación"
   ]
  },
  {
   "cell_type": "code",
   "execution_count": 4,
   "metadata": {},
   "outputs": [],
   "source": [
    "n=len(x)#tamaño del arreglo\n",
    "\n",
    "#convertimos a arreglos\n",
    "y=np.array(y)\n",
    "x=np.array(x)\n",
    "#sumatoria de las ventas\n",
    "sumy=sum(y)\n",
    "#sumatoria de los meses\n",
    "sumx=sum(x)\n",
    "#sumatoria de los meses al cuadrado\n",
    "sumx2=sum(x*x)\n",
    "sumy2=sum(y*y)\n",
    "#sumatoria de la multiplicacion entre xy\n",
    "sumxy=sum(x*y)\n",
    "#promedio de ventas y promedio de meses\n",
    "mediay=sumy/n\n",
    "mediax=sumx/n\n",
    "#la suma elevada al cuadrado\n",
    "suma2x=pow(sumx,2)\n",
    "\n"
   ]
  },
  {
   "cell_type": "markdown",
   "metadata": {},
   "source": [
    "Ahora miraremos la ecuación de la Regresión lineal\n",
    " $Y_t=a+bx$ , donde $a$ es el punto de intersección y $b$ la pendiente\n",
    " Siendo $Y_t$ el valor que queremos predecir\n",
    "\n",
    " \n",
    "Nota:\n",
    " Ecuación de la pendiente:\n",
    " \n",
    "  $b=\\frac{n\\sum_{i=1}^{n}y_{i}x_{i}- \\sum_{i=1}^{n}y_{i}\\sum_{i=1}^{n}x_{i}}{n\\sum_{i=1}^{n}x_{i}^2 - (\\sum_{i=1}^{n}x_{i})^2}$\n",
    " \n",
    "Ecuación del punto de intersección:\n",
    " \n",
    " $a=\\frac{\\sum_{i=1}^{n}y_i}{n}-b(\\frac{\\sum_{i=1}^{n}x_i}{n})$\n",
    " \n",
    " \n",
    "\n"
   ]
  },
  {
   "cell_type": "code",
   "execution_count": 5,
   "metadata": {},
   "outputs": [
    {
     "name": "stdout",
     "output_type": "stream",
     "text": [
      "la prediccion de la venta para el 7 mes es:\n",
      "13066.666666666666\n"
     ]
    }
   ],
   "source": [
    "##aqui comenzamos la regression lineal\n",
    "#calculamos la pendiente\n",
    "pendiente=((n*sumxy)-(sumx*sumy))/((n*sumx2)- suma2x)\n",
    "#interseccion\n",
    "interseccion=mediay-(pendiente*mediax)\n",
    "##prediccion del 7 mes\n",
    "prediccion=interseccion+(pendiente*7)\n",
    "print ('la prediccion de la venta para el 7 mes es:')\n",
    "print (prediccion)"
   ]
  },
  {
   "cell_type": "markdown",
   "metadata": {},
   "source": [
    "Ahora solo nos faltaria graficar:"
   ]
  },
  {
   "cell_type": "code",
   "execution_count": 6,
   "metadata": {},
   "outputs": [
    {
     "data": {
      "text/plain": [
       "<matplotlib.legend.Legend at 0x7d14d7bc88>"
      ]
     },
     "execution_count": 6,
     "metadata": {},
     "output_type": "execute_result"
    },
    {
     "data": {
      "image/png": "[encoded data removed]",
      "text/plain": [
       "<Figure size 432x288 with 1 Axes>"
      ]
     },
     "metadata": {},
     "output_type": "display_data"
    }
   ],
   "source": [
    "plt.plot(x,y,'o', label='Datos')\n",
    "plt.plot(x, pendiente*x + interseccion, label='Ajuste')\n",
    "plt.xlabel('t')\n",
    "plt.xlabel('x')\n",
    "plt.grid()\n",
    "plt.legend()"
   ]
  },
  {
   "cell_type": "markdown",
   "metadata": {},
   "source": [
    "Teniendo la predicción de la venta del 7 mes y la representación gráfica, ahora solo falta calcular el coeficiente de correlación entre las variables X,Y para conocer su dependencia.\n",
    "\n",
    "Ecuación de Coeficiente de correlación de Pearson:\n",
    "$r_{xy}=\\frac{\\sigma_{xy}}{\\sigma_x \\sigma_y}$\n",
    "\n",
    "Donde:\n",
    "\n",
    "$\\sigma_{xy}$ es la covarianza de $x,y$\n",
    "\n",
    "$\\sigma_{xy}=\\frac{\\sum_{i=1}^{n}xy}{n}-(\\frac{\\sum_{i=1}^{n}x}{n})(\\frac{\\sum_{i=1}^{n}y}{n})$\n",
    "\n",
    "$\\sigma_x$ es la desviación típica de la variable x\n",
    "\n",
    "$\\sigma_x=\\sqrt{\\frac{(\\sum_{i=1}^{n}x^2)}{n}- (\\frac{\\sum_{i=1}^{n}x}{n})^2}$\n",
    "\n",
    "$\\sigma_y$ es la desviación típica de la variable y\n",
    "\n",
    "$\\sigma_y=\\sqrt{\\frac{(\\sum_{i=1}^{n}y^2)}{n}- (\\frac{\\sum_{i=1}^{n}y}{n})^2}$\n",
    "\n",
    "Por último se debe elevar el $r_{xy}$ al cuadrado \n",
    "$(r_{xy})^2$\n",
    "\n"
   ]
  },
  {
   "cell_type": "code",
   "execution_count": 7,
   "metadata": {},
   "outputs": [
    {
     "name": "stdout",
     "output_type": "stream",
     "text": [
      "Coeficiente de correacion\n",
      "0.5321282798833822\n"
     ]
    }
   ],
   "source": [
    "mediax2=pow(mediax,2)\n",
    "mediay2= pow(mediay,2)\n",
    "\n",
    "sigmax= np.sqrt((sumx2/n) - mediax2)\n",
    "sigmay= np.sqrt((sumy2/n) - mediay2)\n",
    "sigmaxy=(sumxy/n) - (mediax*mediay)\n",
    "r=(sigmaxy/(sigmax*sigmay));\n",
    "r2=pow(r,2)\n",
    "print('Coeficiente de correacion')\n",
    "print(r2)\n",
    "plt.show()"
   ]
  },
  {
   "cell_type": "markdown",
   "metadata": {},
   "source": [
    "Así, Obtuvimos que el coeficiente de correlación es 0.53 concluyendo que existe una correlación positiva entre X y Y"
   ]
  },
  {
   "cell_type": "code",
   "execution_count": null,
   "metadata": {},
   "outputs": [],
   "source": []
  }
 ],
 "metadata": {
  "celltoolbar": "Slideshow",
  "kernelspec": {
   "display_name": "Python 3",
   "language": "python",
   "name": "python3"
  },
  "language_info": {
   "codemirror_mode": {
    "name": "ipython",
    "version": 3
   },
   "file_extension": ".py",
   "mimetype": "text/x-python",
   "name": "python",
   "nbconvert_exporter": "python",
   "pygments_lexer": "ipython3",
   "version": "3.6.5"
  }
 },
 "nbformat": 4,
 "nbformat_minor": 2
}
